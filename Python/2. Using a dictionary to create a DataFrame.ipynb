{
 "cells": [
  {
   "cell_type": "code",
   "execution_count": 4,
   "metadata": {},
   "outputs": [],
   "source": [
    "import pandas as pd"
   ]
  },
  {
   "cell_type": "code",
   "execution_count": 8,
   "metadata": {},
   "outputs": [
    {
     "name": "stdout",
     "output_type": "stream",
     "text": [
      "        country  fertility rate  population  median Age\n",
      "0        Brazil            1.74       213.5        33.5\n",
      "1         Japan            1.37       126.4        48.4\n",
      "2     Indonesia            2.32       273.5        29.7\n",
      "3          Iraq            3.68        40.7        21.0\n",
      "4  South Africa            2.41        59.3        27.6\n"
     ]
    }
   ],
   "source": [
    "dict = {\"country\": [\"Brazil\", \"Japan\", \"Indonesia\", \"Iraq\", \"South Africa\"],\n",
    "       \"fertility rate\": [1.74, 1.37, 2.32,3.68,2.41],\n",
    "       \"population\": [213.5, 126.4,273.5,40.7,59.3],\n",
    "       \"median Age\": [33.5,48.4,29.7,21,27.6]}\n",
    "\n",
    "info = pd.DataFrame(dict)\n",
    "print(info)"
   ]
  },
  {
   "cell_type": "code",
   "execution_count": 9,
   "metadata": {},
   "outputs": [
    {
     "data": {
      "text/html": [
       "<div>\n",
       "<style scoped>\n",
       "    .dataframe tbody tr th:only-of-type {\n",
       "        vertical-align: middle;\n",
       "    }\n",
       "\n",
       "    .dataframe tbody tr th {\n",
       "        vertical-align: top;\n",
       "    }\n",
       "\n",
       "    .dataframe thead th {\n",
       "        text-align: right;\n",
       "    }\n",
       "</style>\n",
       "<table border=\"1\" class=\"dataframe\">\n",
       "  <thead>\n",
       "    <tr style=\"text-align: right;\">\n",
       "      <th></th>\n",
       "      <th>country</th>\n",
       "      <th>fertility rate</th>\n",
       "      <th>population</th>\n",
       "      <th>median Age</th>\n",
       "    </tr>\n",
       "  </thead>\n",
       "  <tbody>\n",
       "    <tr>\n",
       "      <th>0</th>\n",
       "      <td>Brazil</td>\n",
       "      <td>1.74</td>\n",
       "      <td>213.5</td>\n",
       "      <td>33.5</td>\n",
       "    </tr>\n",
       "    <tr>\n",
       "      <th>1</th>\n",
       "      <td>Japan</td>\n",
       "      <td>1.37</td>\n",
       "      <td>126.4</td>\n",
       "      <td>48.4</td>\n",
       "    </tr>\n",
       "    <tr>\n",
       "      <th>2</th>\n",
       "      <td>Indonesia</td>\n",
       "      <td>2.32</td>\n",
       "      <td>273.5</td>\n",
       "      <td>29.7</td>\n",
       "    </tr>\n",
       "    <tr>\n",
       "      <th>3</th>\n",
       "      <td>Iraq</td>\n",
       "      <td>3.68</td>\n",
       "      <td>40.7</td>\n",
       "      <td>21.0</td>\n",
       "    </tr>\n",
       "    <tr>\n",
       "      <th>4</th>\n",
       "      <td>South Africa</td>\n",
       "      <td>2.41</td>\n",
       "      <td>59.3</td>\n",
       "      <td>27.6</td>\n",
       "    </tr>\n",
       "  </tbody>\n",
       "</table>\n",
       "</div>"
      ],
      "text/plain": [
       "        country  fertility rate  population  median Age\n",
       "0        Brazil            1.74       213.5        33.5\n",
       "1         Japan            1.37       126.4        48.4\n",
       "2     Indonesia            2.32       273.5        29.7\n",
       "3          Iraq            3.68        40.7        21.0\n",
       "4  South Africa            2.41        59.3        27.6"
      ]
     },
     "execution_count": 9,
     "metadata": {},
     "output_type": "execute_result"
    }
   ],
   "source": [
    "info"
   ]
  },
  {
   "cell_type": "code",
   "execution_count": null,
   "metadata": {},
   "outputs": [],
   "source": []
  }
 ],
 "metadata": {
  "kernelspec": {
   "display_name": "Python 3",
   "language": "python",
   "name": "python3"
  },
  "language_info": {
   "codemirror_mode": {
    "name": "ipython",
    "version": 3
   },
   "file_extension": ".py",
   "mimetype": "text/x-python",
   "name": "python",
   "nbconvert_exporter": "python",
   "pygments_lexer": "ipython3",
   "version": "3.8.5"
  }
 },
 "nbformat": 4,
 "nbformat_minor": 4
}
